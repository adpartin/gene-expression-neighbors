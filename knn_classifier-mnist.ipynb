{
 "cells": [
  {
   "cell_type": "markdown",
   "metadata": {},
   "source": [
    "Build knn-based cancer type classifier using gdc data.\n",
    "Use the knn hyperparameters of the best classifier to draw the knn cell lines for PMDs."
   ]
  },
  {
   "cell_type": "markdown",
   "metadata": {},
   "source": [
    "**Dimensionality reduction:**<br>\n",
    "- https://colah.github.io/posts/2014-10-Visualizing-MNIST/\n",
    "- https://jlmelville.github.io/smallvis/mmds.html\n",
    "- https://www.cs.toronto.edu/~hinton/csc2535/notes/lec11new.pdf"
   ]
  },
  {
   "cell_type": "markdown",
   "metadata": {},
   "source": [
    "1. Input data\n",
    "    - (we want dim-reduction methods that preserve distance proximity)\n",
    "    - raw data lincs1000\n",
    "    - pca\n",
    "    - mds\n",
    "    - sammon - emphesizes more the local rather the global structure\n",
    "    - ae (up to 8 dims)\n",
    "    - som (https://ieeexplore.ieee.org/document/5551813/) - preserves distance and proximity ()\n",
    "2. Distance metric"
   ]
  },
  {
   "cell_type": "code",
   "execution_count": 1,
   "metadata": {},
   "outputs": [],
   "source": [
    "%load_ext autoreload\n",
    "%autoreload 2\n",
    "%matplotlib inline"
   ]
  },
  {
   "cell_type": "code",
   "execution_count": 2,
   "metadata": {},
   "outputs": [],
   "source": [
    "import os\n",
    "import sys"
   ]
  },
  {
   "cell_type": "code",
   "execution_count": 3,
   "metadata": {},
   "outputs": [],
   "source": [
    "utils_path = os.path.abspath(os.path.join('..', 'utils_py'))\n",
    "sys.path.append(utils_path)"
   ]
  },
  {
   "cell_type": "code",
   "execution_count": 4,
   "metadata": {},
   "outputs": [],
   "source": [
    "from pilot1_imports import *\n",
    "from utils import *\n",
    "SEED = 0"
   ]
  },
  {
   "cell_type": "code",
   "execution_count": 5,
   "metadata": {},
   "outputs": [],
   "source": [
    "from sklearn.datasets.mldata import fetch_mldata\n",
    "import tempfile\n",
    "test_data_home = tempfile.mkdtemp()"
   ]
  },
  {
   "cell_type": "code",
   "execution_count": 6,
   "metadata": {},
   "outputs": [],
   "source": [
    "mnist = fetch_mldata('MNIST original', data_home='.')\n",
    "xdata = mnist['data']\n",
    "ydata = mnist['target']"
   ]
  },
  {
   "cell_type": "code",
   "execution_count": 7,
   "metadata": {},
   "outputs": [
    {
     "name": "stdout",
     "output_type": "stream",
     "text": [
      "(70000, 784)\n",
      "(70000,)\n"
     ]
    }
   ],
   "source": [
    "print(xdata.shape)\n",
    "print(ydata.shape)"
   ]
  },
  {
   "cell_type": "markdown",
   "metadata": {},
   "source": [
    "### Utils"
   ]
  },
  {
   "cell_type": "code",
   "execution_count": 8,
   "metadata": {},
   "outputs": [],
   "source": [
    "from sklearn.neighbors import KNeighborsClassifier\n",
    "from sklearn.model_selection import train_test_split\n",
    "from sklearn.discriminant_analysis import LinearDiscriminantAnalysis\n",
    "from sklearn.decomposition import PCA, FastICA\n",
    "from sklearn.manifold import MDS\n",
    "from sklearn.metrics import classification_report, precision_recall_fscore_support, confusion_matrix, f1_score"
   ]
  },
  {
   "cell_type": "code",
   "execution_count": 9,
   "metadata": {},
   "outputs": [],
   "source": [
    "def plot_confusion_matrix(y_true, y_pred, labels=None, title=None, savefig=True, img_name='confusion'):\n",
    "    \"\"\" Create a confusion matrix for a classification results.\n",
    "    Args:\n",
    "        labels : list of label names\n",
    "    \"\"\"\n",
    "    np_conf = confusion_matrix(y_true, y_pred)\n",
    "    df_conf = pd.DataFrame(np_conf, index=labels, columns=labels)\n",
    "\n",
    "    m = df_conf.shape[0]\n",
    "\n",
    "    fontsize=25  # font size of labels (not in table numbers)\n",
    "    plt.figure(figsize=(m, m))\n",
    "    sns.set(font_scale=2.0)\n",
    "    sns.heatmap(df_conf, annot=True, fmt='d', linewidths=0.9, cmap='Greens', linecolor='white')\n",
    "    plt.ylabel('True label', fontsize=fontsize)\n",
    "    plt.xlabel('Predicted label', fontsize=fontsize)\n",
    "    if title:\n",
    "        plt.title(title, fontsize=fontsize)\n",
    "\n",
    "#     if savefig:\n",
    "#         plt.savefig(img_name, bbox_inches='tight')\n",
    "\n",
    "    return df_conf"
   ]
  },
  {
   "cell_type": "markdown",
   "metadata": {},
   "source": [
    "### Dim-reduction"
   ]
  },
  {
   "cell_type": "code",
   "execution_count": 10,
   "metadata": {},
   "outputs": [],
   "source": [
    "from sklearn.neighbors import KNeighborsClassifier\n",
    "from sklearn.model_selection import train_test_split\n",
    "from sklearn.discriminant_analysis import LinearDiscriminantAnalysis\n",
    "from sklearn.decomposition import PCA, FastICA\n",
    "from sklearn.manifold import MDS\n",
    "from sklearn.metrics import classification_report, precision_recall_fscore_support, confusion_matrix, f1_score"
   ]
  },
  {
   "cell_type": "code",
   "execution_count": 11,
   "metadata": {},
   "outputs": [],
   "source": [
    "# from minisom import MiniSom"
   ]
  },
  {
   "cell_type": "markdown",
   "metadata": {},
   "source": [
    "#### Create different classifiers"
   ]
  },
  {
   "cell_type": "code",
   "execution_count": 12,
   "metadata": {},
   "outputs": [],
   "source": [
    "# Create different classifier\n",
    "classifiers = [('minkowski (p=2)', KNeighborsClassifier(n_neighbors=5, weights='uniform', algorithm='auto', \n",
    "                                                        metric='minkowski', p=2, metric_params=None, n_jobs=-1)),\n",
    "               ('minkowski (p=1)', KNeighborsClassifier(n_neighbors=5, weights='uniform', algorithm='auto', \n",
    "                                                        metric='minkowski', p=1, metric_params=None, n_jobs=-1)),\n",
    "               ('chebyshev', KNeighborsClassifier(n_neighbors=5, weights='uniform', algorithm='auto', \n",
    "                                                  metric='chebyshev', metric_params=None, n_jobs=-1)),\n",
    "               ('cosine', KNeighborsClassifier(n_neighbors=5, weights='uniform', algorithm='auto', \n",
    "                                               metric='cosine', metric_params=None, n_jobs=-1)),\n",
    "              ]"
   ]
  },
  {
   "cell_type": "markdown",
   "metadata": {},
   "source": [
    "#### Create different datasets"
   ]
  },
  {
   "cell_type": "code",
   "execution_count": 13,
   "metadata": {},
   "outputs": [],
   "source": [
    "idx = np.random.permutation(range(xdata.shape[0]))\n",
    "xdata = xdata[idx[:3000], :]\n",
    "ydata = ydata[idx[:3000]].astype(np.int16)"
   ]
  },
  {
   "cell_type": "code",
   "execution_count": 14,
   "metadata": {},
   "outputs": [
    {
     "data": {
      "text/plain": [
       "array([302, 351, 313, 308, 276, 291, 266, 321, 294, 278])"
      ]
     },
     "execution_count": 14,
     "metadata": {},
     "output_type": "execute_result"
    }
   ],
   "source": [
    "np.bincount(ydata)"
   ]
  },
  {
   "cell_type": "code",
   "execution_count": 15,
   "metadata": {},
   "outputs": [],
   "source": [
    "n_components=8"
   ]
  },
  {
   "cell_type": "code",
   "execution_count": 16,
   "metadata": {},
   "outputs": [
    {
     "name": "stdout",
     "output_type": "stream",
     "text": [
      "(3000, 8)\n"
     ]
    }
   ],
   "source": [
    "# http://scikit-learn.org/stable/modules/generated/sklearn.decomposition.PCA.html\n",
    "pca_obj = PCA(n_components=n_components, copy=True, whiten=False, svd_solver='auto', tol=0.0,\n",
    "              iterated_power='auto', random_state=SEED)\n",
    "xdata_pca = pca_obj.fit_transform(xdata.copy())\n",
    "print(xdata_pca.shape)"
   ]
  },
  {
   "cell_type": "code",
   "execution_count": 17,
   "metadata": {},
   "outputs": [
    {
     "data": {
      "text/plain": [
       "0.4430519713015967"
      ]
     },
     "execution_count": 17,
     "metadata": {},
     "output_type": "execute_result"
    }
   ],
   "source": [
    "pca_obj.explained_variance_ratio_.sum()"
   ]
  },
  {
   "cell_type": "code",
   "execution_count": 18,
   "metadata": {},
   "outputs": [
    {
     "name": "stdout",
     "output_type": "stream",
     "text": [
      "(3000, 8)\n"
     ]
    }
   ],
   "source": [
    "# http://scikit-learn.org/stable/modules/generated/sklearn.decomposition.FastICA.html\n",
    "ica_obj = FastICA(n_components=n_components, algorithm='parallel', whiten=True, fun='logcosh',\n",
    "                  fun_args=None, max_iter=800, tol=0.001, w_init=None, random_state=SEED)\n",
    "xdata_ica = ica_obj.fit_transform(xdata.copy())\n",
    "print(xdata_ica.shape)"
   ]
  },
  {
   "cell_type": "code",
   "execution_count": 19,
   "metadata": {},
   "outputs": [],
   "source": [
    "# # http://scikit-learn.org/stable/modules/generated/sklearn.manifold.MDS.html\n",
    "# mds_obj = MDS(n_components=2, metric=True, n_init=1, max_iter=100,\n",
    "#               verbose=1, eps=0.001, n_jobs=-1, random_state=SEED, dissimilarity='euclidean')\n",
    "# rna_mds = mds_obj.fit_transform(df_rna.copy())\n",
    "# print(rna_mds.shape)"
   ]
  },
  {
   "cell_type": "code",
   "execution_count": 20,
   "metadata": {},
   "outputs": [],
   "source": [
    "# Create different classifier\n",
    "datasets = [('original', xdata), ('pca', xdata_pca), ('ica', xdata_ica)]\n",
    "# datasets = [('pca', xdata_pca), ('ica', xdata_ica)]"
   ]
  },
  {
   "cell_type": "markdown",
   "metadata": {},
   "source": [
    "#### Iterate"
   ]
  },
  {
   "cell_type": "code",
   "execution_count": 21,
   "metadata": {},
   "outputs": [
    {
     "name": "stdout",
     "output_type": "stream",
     "text": [
      "\n",
      " minkowski (p=2)\n",
      "----------------\n",
      "   original\n",
      "     precision=0.89, recall=0.89, f_beta=0.89\n",
      "   pca\n",
      "     precision=0.89, recall=0.89, f_beta=0.89\n",
      "   ica\n",
      "     precision=0.89, recall=0.89, f_beta=0.89\n",
      "\n",
      " minkowski (p=1)\n",
      "----------------\n",
      "   original\n",
      "     precision=0.87, recall=0.87, f_beta=0.87\n",
      "   pca\n",
      "     precision=0.87, recall=0.87, f_beta=0.87\n",
      "   ica\n",
      "     precision=0.87, recall=0.87, f_beta=0.87\n",
      "\n",
      " chebyshev\n",
      "----------------\n",
      "   original\n",
      "     precision=0.55, recall=0.55, f_beta=0.55\n",
      "   pca\n",
      "     precision=0.55, recall=0.55, f_beta=0.55\n",
      "   ica\n",
      "     precision=0.55, recall=0.55, f_beta=0.55\n",
      "\n",
      " cosine\n",
      "----------------\n",
      "   original\n",
      "     precision=0.90, recall=0.90, f_beta=0.90\n",
      "   pca\n",
      "     precision=0.90, recall=0.90, f_beta=0.90\n",
      "   ica\n",
      "     precision=0.90, recall=0.90, f_beta=0.90\n"
     ]
    }
   ],
   "source": [
    "for ci, c in enumerate(classifiers):\n",
    "    # Iter over classifiers\n",
    "    cls_name = classifiers[ci][0]\n",
    "    cls_obj = classifiers[ci][1]\n",
    "    print('\\n', cls_name)\n",
    "    print('----------------')\n",
    "    \n",
    "    for di, d in enumerate(datasets):\n",
    "        # Iter over datasets\n",
    "        data_name = datasets[di][0]\n",
    "        data = datasets[di][1].copy()\n",
    "        print('  ', data_name)\n",
    "        \n",
    "        # Split dataset\n",
    "        xtr, xte, ytr, yte = train_test_split(xdata, ydata, test_size=0.2,\n",
    "                                              stratify=ydata, random_state=SEED, shuffle=True)\n",
    "        y_true_classes = yte\n",
    "        \n",
    "        # Train kNN\n",
    "        cls_obj.fit(xtr, ytr)\n",
    "        \n",
    "        # Compute class predictions\n",
    "        y_pred_classes = cls_obj.predict(xte)\n",
    "        \n",
    "        # Compute scores\n",
    "        scores = precision_recall_fscore_support(yte, y_pred_classes, average='micro')\n",
    "        print('     precision={:.2f}, recall={:.2f}, f_beta={:.2f}'.format(scores[0], scores[1], scores[2]))\n",
    "        "
   ]
  },
  {
   "cell_type": "code",
   "execution_count": null,
   "metadata": {},
   "outputs": [],
   "source": []
  }
 ],
 "metadata": {
  "kernelspec": {
   "display_name": "Python 3",
   "language": "python",
   "name": "python3"
  },
  "language_info": {
   "codemirror_mode": {
    "name": "ipython",
    "version": 3
   },
   "file_extension": ".py",
   "mimetype": "text/x-python",
   "name": "python",
   "nbconvert_exporter": "python",
   "pygments_lexer": "ipython3",
   "version": "3.6.5"
  }
 },
 "nbformat": 4,
 "nbformat_minor": 2
}
