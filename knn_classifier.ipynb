{
 "cells": [
  {
   "cell_type": "markdown",
   "metadata": {},
   "source": [
    "Build knn-based cancer type classifier using gdc data.\n",
    "Use the knn hyperparameters of the best classifier to draw the knn cell lines for PMDs."
   ]
  },
  {
   "cell_type": "markdown",
   "metadata": {},
   "source": [
    "**Dimensionality reduction:**<br>\n",
    "- https://colah.github.io/posts/2014-10-Visualizing-MNIST/\n",
    "- https://jlmelville.github.io/smallvis/mmds.html\n",
    "- https://www.cs.toronto.edu/~hinton/csc2535/notes/lec11new.pdf"
   ]
  },
  {
   "cell_type": "markdown",
   "metadata": {},
   "source": [
    "1. Input data\n",
    "    - (we want dim-reduction methods that preserve distance proximity)\n",
    "    - raw data lincs1000\n",
    "    - pca\n",
    "    - mds\n",
    "    - sammon - emphesizes more the local rather the global structure\n",
    "    - ae (up to 8 dims)\n",
    "    - som (https://ieeexplore.ieee.org/document/5551813/) - preserves distance and proximity ()\n",
    "2. Distance metric"
   ]
  },
  {
   "cell_type": "code",
   "execution_count": 1,
   "metadata": {},
   "outputs": [],
   "source": [
    "%load_ext autoreload\n",
    "%autoreload 2\n",
    "%matplotlib inline"
   ]
  },
  {
   "cell_type": "code",
   "execution_count": 2,
   "metadata": {
    "collapsed": true
   },
   "outputs": [],
   "source": [
    "import os\n",
    "import sys"
   ]
  },
  {
   "cell_type": "code",
   "execution_count": 3,
   "metadata": {
    "collapsed": true
   },
   "outputs": [],
   "source": [
    "utils_path = os.path.abspath(os.path.join('..', 'utils_py'))\n",
    "sys.path.append(utils_path)"
   ]
  },
  {
   "cell_type": "code",
   "execution_count": 4,
   "metadata": {
    "collapsed": true
   },
   "outputs": [],
   "source": [
    "from pilot1_imports import *\n",
    "from utils import *\n",
    "SEED = 0"
   ]
  },
  {
   "cell_type": "code",
   "execution_count": 5,
   "metadata": {
    "collapsed": true
   },
   "outputs": [],
   "source": [
    "DATAPATH = '/Users/apartin/work/jdacs/Benchmarks/Data/Pilot1'\n",
    "DATASET = 'combined_rnaseq_data_lincs1000_combat'\n",
    "# DATASET = 'combined_rnaseq_data_lincs1000_source_scale'\n",
    "PDM_METADATA_FILENAME = 'combined_metadata_2018May.txt'"
   ]
  },
  {
   "cell_type": "code",
   "execution_count": 6,
   "metadata": {},
   "outputs": [
    {
     "name": "stdout",
     "output_type": "stream",
     "text": [
      "Loading dataframe by chunks...\n",
      "/Users/apartin/work/jdacs/Benchmarks/Data/Pilot1/combined_rnaseq_data_lincs1000_combat: (15198, 943)\n",
      "\n",
      "(15198, 943)\n"
     ]
    }
   ],
   "source": [
    "df_rna = load_combined_rnaseq(dataset=os.path.join(DATAPATH, DATASET), chunksize=2000, verbose=False)\n",
    "print('\\n{}'.format(df_rna.shape))"
   ]
  },
  {
   "cell_type": "code",
   "execution_count": 7,
   "metadata": {
    "collapsed": true
   },
   "outputs": [],
   "source": [
    "# Load metadata\n",
    "meta = pd.read_csv(os.path.join(DATAPATH, PDM_METADATA_FILENAME), sep='\\t')\n",
    "meta = update_metadata_comb_may2018(meta)"
   ]
  },
  {
   "cell_type": "code",
   "execution_count": 8,
   "metadata": {},
   "outputs": [
    {
     "name": "stdout",
     "output_type": "stream",
     "text": [
      "gdc    11081\n",
      "Name: source, dtype: int64\n",
      "33\n"
     ]
    }
   ],
   "source": [
    "# Extract dgc\n",
    "meta = meta[meta['source']=='gdc'].reset_index(drop=True)\n",
    "df_rna, meta = update_df_and_meta(df_rna, meta, on='Sample')\n",
    "print(meta['source'].value_counts(dropna=False))\n",
    "print(meta['ctype'].nunique())"
   ]
  },
  {
   "cell_type": "code",
   "execution_count": 9,
   "metadata": {},
   "outputs": [
    {
     "data": {
      "text/plain": [
       "Breast Invasive Carcinoma               1222\n",
       "Kidney Renal Clear Cell Carcinoma        608\n",
       "Lung Adenocarcinoma                      594\n",
       "Uterine Corpus Endometrial Carcinoma     587\n",
       "Thyroid Carcinoma                        567\n",
       "Name: ctype, dtype: int64"
      ]
     },
     "execution_count": 9,
     "metadata": {},
     "output_type": "execute_result"
    }
   ],
   "source": [
    "meta['ctype'].value_counts()[:5]"
   ]
  },
  {
   "cell_type": "code",
   "execution_count": 10,
   "metadata": {},
   "outputs": [
    {
     "name": "stdout",
     "output_type": "stream",
     "text": [
      "(1550, 943)\n"
     ]
    }
   ],
   "source": [
    "# Balance the dataset\n",
    "df_rna, dropped_labels = balance_df(df=df_rna, y=meta['ctype'], min_label_size=50, seed=None)\n",
    "df_rna, meta = update_df_and_meta(df_rna, meta, on='Sample')\n",
    "print(df_rna.shape)"
   ]
  },
  {
   "cell_type": "code",
   "execution_count": 11,
   "metadata": {},
   "outputs": [
    {
     "data": {
      "text/plain": [
       "{'Cholangiocarcinoma': 45,\n",
       " 'Lymphoid Neoplasm Diffuse Large B-cell Lymphoma': 48}"
      ]
     },
     "execution_count": 11,
     "metadata": {},
     "output_type": "execute_result"
    }
   ],
   "source": [
    "dropped_labels"
   ]
  },
  {
   "cell_type": "code",
   "execution_count": 12,
   "metadata": {},
   "outputs": [
    {
     "data": {
      "text/plain": [
       "Ovarian Serous Cystadenocarcinoma        50\n",
       "Head and Neck Squamous Cell Carcinoma    50\n",
       "Glioblastoma Multiforme                  50\n",
       "Sarcoma                                  50\n",
       "Kidney Renal Papillary Cell Carcinoma    50\n",
       "Name: ctype, dtype: int64"
      ]
     },
     "execution_count": 12,
     "metadata": {},
     "output_type": "execute_result"
    }
   ],
   "source": [
    "meta['ctype'].value_counts()[:5]"
   ]
  },
  {
   "cell_type": "markdown",
   "metadata": {},
   "source": [
    "### Utils"
   ]
  },
  {
   "cell_type": "code",
   "execution_count": 12,
   "metadata": {
    "collapsed": true
   },
   "outputs": [],
   "source": [
    "from sklearn.neighbors import KNeighborsClassifier\n",
    "from sklearn.model_selection import train_test_split\n",
    "from sklearn.discriminant_analysis import LinearDiscriminantAnalysis\n",
    "from sklearn.decomposition import PCA, FastICA\n",
    "from sklearn.manifold import MDS\n",
    "from sklearn.metrics import classification_report, precision_recall_fscore_support, confusion_matrix, f1_score"
   ]
  },
  {
   "cell_type": "code",
   "execution_count": 13,
   "metadata": {
    "collapsed": true
   },
   "outputs": [],
   "source": [
    "def plot_confusion_matrix(y_true, y_pred, labels=None, title=None, savefig=True, img_name='confusion'):\n",
    "    \"\"\" Create a confusion matrix for a classification results.\n",
    "    Args:\n",
    "        labels : list of label names\n",
    "    \"\"\"\n",
    "    np_conf = confusion_matrix(y_true, y_pred)\n",
    "    df_conf = pd.DataFrame(np_conf, index=labels, columns=labels)\n",
    "\n",
    "    m = df_conf.shape[0]\n",
    "\n",
    "    fontsize=25  # font size of labels (not in table numbers)\n",
    "    plt.figure(figsize=(m, m))\n",
    "    sns.set(font_scale=2.0)\n",
    "    sns.heatmap(df_conf, annot=True, fmt='d', linewidths=0.9, cmap='Greens', linecolor='white')\n",
    "    plt.ylabel('True label', fontsize=fontsize)\n",
    "    plt.xlabel('Predicted label', fontsize=fontsize)\n",
    "    if title:\n",
    "        plt.title(title, fontsize=fontsize)\n",
    "\n",
    "#     if savefig:\n",
    "#         plt.savefig(img_name, bbox_inches='tight')\n",
    "\n",
    "    return df_conf"
   ]
  },
  {
   "cell_type": "code",
   "execution_count": 14,
   "metadata": {
    "collapsed": true
   },
   "outputs": [],
   "source": [
    "sample_vec = df_rna['Sample']\n",
    "rna = df_rna.iloc[:, 1:].copy()"
   ]
  },
  {
   "cell_type": "code",
   "execution_count": 15,
   "metadata": {
    "collapsed": true
   },
   "outputs": [],
   "source": [
    "xtr, xte, ytr, yte = train_test_split(rna, meta['ctype'], test_size=0.2,\n",
    "                                      stratify=meta['ctype'], random_state=SEED, shuffle=True)\n",
    "xtr.reset_index(drop=True, inplace=True)\n",
    "xte.reset_index(drop=True, inplace=True)\n",
    "ytr.reset_index(drop=True, inplace=True)\n",
    "yte.reset_index(drop=True, inplace=True)\n",
    "y_true_classes = yte.values"
   ]
  },
  {
   "cell_type": "code",
   "execution_count": 16,
   "metadata": {
    "collapsed": true
   },
   "outputs": [],
   "source": [
    "# yte.value_counts()"
   ]
  },
  {
   "cell_type": "code",
   "execution_count": 17,
   "metadata": {},
   "outputs": [
    {
     "data": {
      "text/plain": [
       "KNeighborsClassifier(algorithm='brute', leaf_size=30, metric='minkowski',\n",
       "           metric_params=None, n_jobs=-1, n_neighbors=5, p=2,\n",
       "           weights='uniform')"
      ]
     },
     "execution_count": 17,
     "metadata": {},
     "output_type": "execute_result"
    }
   ],
   "source": [
    "knn_model = KNeighborsClassifier(n_neighbors=5, weights='uniform', algorithm='brute', \n",
    "                                 metric='minkowski', p=2, metric_params=None, n_jobs=-1);\n",
    "knn_model.fit(xtr, ytr)"
   ]
  },
  {
   "cell_type": "code",
   "execution_count": 18,
   "metadata": {
    "collapsed": true
   },
   "outputs": [],
   "source": [
    "y_pred_classes = knn_model.predict(xte)"
   ]
  },
  {
   "cell_type": "code",
   "execution_count": 19,
   "metadata": {},
   "outputs": [
    {
     "data": {
      "text/plain": [
       "(0.7811447811447811, 0.7811447811447811, 0.7811447811447811, None)"
      ]
     },
     "execution_count": 19,
     "metadata": {},
     "output_type": "execute_result"
    }
   ],
   "source": [
    "precision_recall_fscore_support(yte, y_pred_classes, average='micro')"
   ]
  },
  {
   "cell_type": "code",
   "execution_count": 20,
   "metadata": {},
   "outputs": [
    {
     "name": "stdout",
     "output_type": "stream",
     "text": [
      "33\n"
     ]
    }
   ],
   "source": [
    "labels = (np.unique(np.append(arr=y_pred_classes, values=y_true_classes))).tolist()\n",
    "print(len(labels))"
   ]
  },
  {
   "cell_type": "code",
   "execution_count": 21,
   "metadata": {},
   "outputs": [
    {
     "data": {
      "text/plain": [
       "array([[9, 0, 0, ..., 0, 0, 0],\n",
       "       [0, 8, 0, ..., 1, 0, 0],\n",
       "       [0, 0, 5, ..., 2, 0, 0],\n",
       "       ...,\n",
       "       [0, 0, 0, ..., 8, 1, 0],\n",
       "       [0, 0, 0, ..., 2, 5, 0],\n",
       "       [0, 0, 0, ..., 0, 0, 9]])"
      ]
     },
     "execution_count": 21,
     "metadata": {},
     "output_type": "execute_result"
    }
   ],
   "source": [
    "confusion_matrix(y_true_classes, y_pred_classes, labels=labels)"
   ]
  },
  {
   "cell_type": "code",
   "execution_count": 22,
   "metadata": {
    "collapsed": true
   },
   "outputs": [],
   "source": [
    "# plot_confusion_matrix(y_true=y_true_classes, y_pred=y_pred_classes, labels=labels);"
   ]
  },
  {
   "cell_type": "markdown",
   "metadata": {},
   "source": [
    "### Dim-reduction"
   ]
  },
  {
   "cell_type": "code",
   "execution_count": 23,
   "metadata": {
    "collapsed": true
   },
   "outputs": [],
   "source": [
    "from sklearn.neighbors import KNeighborsClassifier\n",
    "from sklearn.model_selection import train_test_split\n",
    "from sklearn.discriminant_analysis import LinearDiscriminantAnalysis\n",
    "from sklearn.decomposition import PCA, FastICA\n",
    "from sklearn.manifold import MDS\n",
    "from sklearn.metrics import classification_report, precision_recall_fscore_support, confusion_matrix, f1_score"
   ]
  },
  {
   "cell_type": "code",
   "execution_count": 24,
   "metadata": {
    "collapsed": true
   },
   "outputs": [],
   "source": [
    "# from minisom import MiniSom"
   ]
  },
  {
   "cell_type": "code",
   "execution_count": 25,
   "metadata": {
    "collapsed": true
   },
   "outputs": [],
   "source": [
    "sample_vec = df_rna['Sample']\n",
    "rna = df_rna.iloc[:, 1:].copy()"
   ]
  },
  {
   "cell_type": "markdown",
   "metadata": {},
   "source": [
    "#### Create different classifiers"
   ]
  },
  {
   "cell_type": "code",
   "execution_count": 26,
   "metadata": {
    "collapsed": true
   },
   "outputs": [],
   "source": [
    "# Create different classifier\n",
    "classifiers = [('minkowski (p=2)', KNeighborsClassifier(n_neighbors=5, weights='uniform', algorithm='brute', \n",
    "                                                        metric='minkowski', p=2, metric_params=None, n_jobs=-1)),\n",
    "               ('minkowski (p=1)', KNeighborsClassifier(n_neighbors=5, weights='uniform', algorithm='brute', \n",
    "                                                        metric='minkowski', p=1, metric_params=None, n_jobs=-1)),\n",
    "               ('chebyshev', KNeighborsClassifier(n_neighbors=5, weights='uniform', algorithm='brute', \n",
    "                                                  metric='chebyshev', metric_params=None, n_jobs=-1)),\n",
    "               ('cosine', KNeighborsClassifier(n_neighbors=5, weights='uniform', algorithm='brute', \n",
    "                                               metric='cosine', metric_params=None, n_jobs=-1)),\n",
    "              ]"
   ]
  },
  {
   "cell_type": "markdown",
   "metadata": {},
   "source": [
    "#### Create different datasets"
   ]
  },
  {
   "cell_type": "code",
   "execution_count": 27,
   "metadata": {
    "collapsed": true
   },
   "outputs": [],
   "source": [
    "n_components=8"
   ]
  },
  {
   "cell_type": "code",
   "execution_count": 28,
   "metadata": {},
   "outputs": [
    {
     "name": "stdout",
     "output_type": "stream",
     "text": [
      "(1485, 8)\n"
     ]
    }
   ],
   "source": [
    "# http://scikit-learn.org/stable/modules/generated/sklearn.decomposition.PCA.html\n",
    "pca_obj = PCA(n_components=n_components, copy=True, whiten=False, svd_solver='auto', tol=0.0,\n",
    "              iterated_power='auto', random_state=SEED)\n",
    "rna_pca = pca_obj.fit_transform(rna.copy())\n",
    "print(rna_pca.shape)"
   ]
  },
  {
   "cell_type": "code",
   "execution_count": 29,
   "metadata": {},
   "outputs": [
    {
     "data": {
      "text/plain": [
       "0.5919773477096065"
      ]
     },
     "execution_count": 29,
     "metadata": {},
     "output_type": "execute_result"
    }
   ],
   "source": [
    "pca_obj.explained_variance_ratio_.sum()"
   ]
  },
  {
   "cell_type": "code",
   "execution_count": 30,
   "metadata": {},
   "outputs": [
    {
     "name": "stdout",
     "output_type": "stream",
     "text": [
      "(1485, 8)\n"
     ]
    }
   ],
   "source": [
    "# http://scikit-learn.org/stable/modules/generated/sklearn.decomposition.FastICA.html\n",
    "ica_obj = FastICA(n_components=n_components, algorithm='parallel', whiten=True, fun='logcosh',\n",
    "                  fun_args=None, max_iter=800, tol=0.001, w_init=None, random_state=SEED)\n",
    "rna_ica = ica_obj.fit_transform(rna.copy())\n",
    "print(rna_ica.shape)"
   ]
  },
  {
   "cell_type": "code",
   "execution_count": 31,
   "metadata": {
    "collapsed": true
   },
   "outputs": [],
   "source": [
    "# # http://scikit-learn.org/stable/modules/generated/sklearn.manifold.MDS.html\n",
    "# mds_obj = MDS(n_components=2, metric=True, n_init=1, max_iter=100,\n",
    "#               verbose=1, eps=0.001, n_jobs=-1, random_state=SEED, dissimilarity='euclidean')\n",
    "# rna_mds = mds_obj.fit_transform(df_rna.copy())\n",
    "# print(rna_mds.shape)"
   ]
  },
  {
   "cell_type": "code",
   "execution_count": 32,
   "metadata": {
    "collapsed": true
   },
   "outputs": [],
   "source": [
    "# Create different classifier\n",
    "datasets = [('original', rna.values), ('pca', rna_pca), ('ica', rna_ica)]"
   ]
  },
  {
   "cell_type": "markdown",
   "metadata": {},
   "source": [
    "#### Iterate"
   ]
  },
  {
   "cell_type": "code",
   "execution_count": 33,
   "metadata": {},
   "outputs": [
    {
     "name": "stdout",
     "output_type": "stream",
     "text": [
      "\n",
      " minkowski (p=2)\n",
      "----------------\n",
      "   original\n",
      "     precision=0.78, recall=0.78, f_beta=0.78\n",
      "   pca\n",
      "     precision=0.62, recall=0.62, f_beta=0.62\n",
      "   ica\n",
      "     precision=0.69, recall=0.69, f_beta=0.69\n",
      "\n",
      " minkowski (p=1)\n",
      "----------------\n",
      "   original\n",
      "     precision=0.77, recall=0.77, f_beta=0.77\n",
      "   pca\n",
      "     precision=0.63, recall=0.63, f_beta=0.63\n",
      "   ica\n",
      "     precision=0.69, recall=0.69, f_beta=0.69\n",
      "\n",
      " chebyshev\n",
      "----------------\n",
      "   original\n",
      "     precision=0.74, recall=0.74, f_beta=0.74\n",
      "   pca\n",
      "     precision=0.58, recall=0.58, f_beta=0.58\n",
      "   ica\n",
      "     precision=0.66, recall=0.66, f_beta=0.66\n",
      "\n",
      " cosine\n",
      "----------------\n",
      "   original\n",
      "     precision=0.82, recall=0.82, f_beta=0.82\n",
      "   pca\n",
      "     precision=0.64, recall=0.64, f_beta=0.64\n",
      "   ica\n",
      "     precision=0.67, recall=0.67, f_beta=0.67\n"
     ]
    }
   ],
   "source": [
    "for ci, c in enumerate(classifiers):\n",
    "    # Iter over classifiers\n",
    "    cls_name = classifiers[ci][0]\n",
    "    cls_obj = classifiers[ci][1]\n",
    "    print('\\n', cls_name)\n",
    "    print('----------------')\n",
    "    \n",
    "    for di, d in enumerate(datasets):\n",
    "        # Iter over datasets\n",
    "        data_name = datasets[di][0]\n",
    "        data = datasets[di][1].copy()\n",
    "        print('  ', data_name)\n",
    "        \n",
    "        # Split dataset\n",
    "        xtr, xte, ytr, yte = train_test_split(data, meta['ctype'], test_size=0.2,\n",
    "                                              stratify=meta['ctype'], random_state=SEED, shuffle=True)\n",
    "        y_true_classes = yte.values\n",
    "        \n",
    "        # Train kNN\n",
    "        cls_obj.fit(xtr, ytr)\n",
    "        \n",
    "        # Compute class predictions\n",
    "        y_pred_classes = cls_obj.predict(xte)\n",
    "        \n",
    "        # Compute scores\n",
    "        scores = precision_recall_fscore_support(yte, y_pred_classes, average='micro')\n",
    "        print('     precision={:.2f}, recall={:.2f}, f_beta={:.2f}'.format(scores[0], scores[1], scores[2]))\n",
    "        "
   ]
  },
  {
   "cell_type": "code",
   "execution_count": null,
   "metadata": {
    "collapsed": true
   },
   "outputs": [],
   "source": []
  }
 ],
 "metadata": {
  "kernelspec": {
   "display_name": "Python 3",
   "language": "python",
   "name": "python3"
  },
  "language_info": {
   "codemirror_mode": {
    "name": "ipython",
    "version": 3
   },
   "file_extension": ".py",
   "mimetype": "text/x-python",
   "name": "python",
   "nbconvert_exporter": "python",
   "pygments_lexer": "ipython3",
   "version": "3.6.6"
  }
 },
 "nbformat": 4,
 "nbformat_minor": 2
}
